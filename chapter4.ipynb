{
 "cells": [
  {
   "cell_type": "code",
   "execution_count": 1,
   "metadata": {},
   "outputs": [],
   "source": [
    "import matplotlib.pyplot as plt\n",
    "import matplotlib.colors as mcolors\n",
    "\n",
    "import numpy as np\n",
    "import pandas as pd"
   ]
  },
  {
   "cell_type": "code",
   "execution_count": 2,
   "metadata": {},
   "outputs": [
    {
     "data": {
      "image/png": "[encoded data removed]",
      "text/html": [
       "<div style=\"vertical-align: middle;\"><strong>okabe_ito</strong> </div><div class=\"cmap\"><img alt=\"okabe_ito colormap\" title=\"okabe_ito\" style=\"border: 1px solid #555;\" src=\"data:image/png;base64,iVBORw0KGgoAAAANSUhEUgAAAgAAAABACAYAAABsv8+/AAAAGHRFWHRUaXRsZQBva2FiZV9pdG8gY29sb3JtYXCM5o9sAAAAHnRFWHREZXNjcmlwdGlvbgBva2FiZV9pdG8gY29sb3JtYXDOfWnnAAAAMHRFWHRBdXRob3IATWF0cGxvdGxpYiB2My44LjQsIGh0dHBzOi8vbWF0cGxvdGxpYi5vcmdkzrK0AAAAMnRFWHRTb2Z0d2FyZQBNYXRwbG90bGliIHYzLjguNCwgaHR0cHM6Ly9tYXRwbG90bGliLm9yZ0poLZMAAAJNSURBVHic7dbBcqJAGIXRHxV9/8dNgmEWgCkaKZjJZqruOZsumrZpLU2+rqrGqqr7rWo19tP4+Nf5fn3/b+df99v5357r5Hnb59flWlVVQz2msbuvx2b+2a6rZX07f7Cumuds5n+3bnPOvf0252yvpw/qu57TvuNzvh6mcWzn53Ec5nM8V+te69vXb9btvP51jmFnfuccu+tOvo/N/Pp93Lqxqqoel++qqrpflutm/uy6Zv4+z/9cr9dv5rvf7X/2ue372Vt37aqqqj6G6ff28Zx+iJ/P5fr69nozP7xfd/i65XnD0bqd/U4+93N+zmb/4dx5+/n71o9f0+c4f7/ur+uvt9f9wf37+H6f49e168+d5/g5w/v189jv7HOd/q1Vdcsf8Hnsps997NbXP/f7+X47fzu4v7N/3Zr7/8f+y3gpACCOAACAQAIAAAIJAAAIJAAAIJAAAIBAAgAAAgkAAAgkAAAgkAAAgEACAAACCQAACCQAACCQAACAQAIAAAIJAAAIJAAAIJAAAIBAAgAAAgkAAAgkAAAgkAAAgEACAAACCQAACCQAACCQAACAQAIAAAIJAAAIJAAAIJAAAIBAAgAAAgkAAAgkAAAgkAAAgEACAAACCQAACCQAACCQAACAQAIAAAIJAAAIJAAAIJAAAIBAAgAAAgkAAAgkAAAgkAAAgEACAAACCQAACCQAACCQAACAQAIAAAIJAAAIJAAAIJAAAIBAAgAAAgkAAAgkAAAgkAAAgEACAAACCQAACCQAACCQAACAQAIAAAL9Ab2bMXo4FyFsAAAAAElFTkSuQmCC\"></div><div style=\"vertical-align: middle; max-width: 514px; display: flex; justify-content: space-between;\"><div style=\"float: left;\"><div title=\"#000000ff\" style=\"display: inline-block; width: 1em; height: 1em; margin: 0; vertical-align: middle; border: 1px solid #555; background-color: #000000ff;\"></div> under</div><div style=\"margin: 0 auto; display: inline-block;\">bad <div title=\"#00000000\" style=\"display: inline-block; width: 1em; height: 1em; margin: 0; vertical-align: middle; border: 1px solid #555; background-color: #00000000;\"></div></div><div style=\"float: right;\">over <div title=\"#cc79a7ff\" style=\"display: inline-block; width: 1em; height: 1em; margin: 0; vertical-align: middle; border: 1px solid #555; background-color: #cc79a7ff;\"></div></div>"
      ],
      "text/plain": [
       "<matplotlib.colors.LinearSegmentedColormap at 0x12c16dbe0>"
      ]
     },
     "execution_count": 2,
     "metadata": {},
     "output_type": "execute_result"
    }
   ],
   "source": [
    "colors_okabe_ito = [\n",
    "    (0, 0, 0),        # Black\n",
    "    (230, 159, 0),    # Orange\n",
    "    (86, 180, 233),   # Sky Blue\n",
    "    (0, 158, 115),    # bluish Green\n",
    "    (240, 228, 66),   # Yellow\n",
    "    (0, 114, 178),    # Blue\n",
    "    (213, 94, 0),     # Vermilion\n",
    "    (204, 121, 167)   # reddish Purple\n",
    "]\n",
    "\n",
    "colors_okabe_ito = np.array(colors_okabe_ito)/255\n",
    "\n",
    "cmap_okabe_ito = mcolors.LinearSegmentedColormap.from_list(\"okabe_ito\", colors_okabe_ito, N=256)\n",
    "\n",
    "cmap_okabe_ito"
   ]
  },
  {
   "cell_type": "code",
   "execution_count": 3,
   "metadata": {},
   "outputs": [
    {
     "data": {
      "image/png": "[encoded data removed]",
      "text/html": [
       "<div style=\"vertical-align: middle;\"><strong>colorbrewer2</strong> </div><div class=\"cmap\"><img alt=\"colorbrewer2 colormap\" title=\"colorbrewer2\" style=\"border: 1px solid #555;\" src=\"data:image/png;base64,iVBORw0KGgoAAAANSUhEUgAAAgAAAABACAYAAABsv8+/AAAAG3RFWHRUaXRsZQBjb2xvcmJyZXdlcjIgY29sb3JtYXDm/fpkAAAAIXRFWHREZXNjcmlwdGlvbgBjb2xvcmJyZXdlcjIgY29sb3JtYXBkZBDhAAAAMHRFWHRBdXRob3IATWF0cGxvdGxpYiB2My44LjQsIGh0dHBzOi8vbWF0cGxvdGxpYi5vcmdkzrK0AAAAMnRFWHRTb2Z0d2FyZQBNYXRwbG90bGliIHYzLjguNCwgaHR0cHM6Ly9tYXRwbG90bGliLm9yZ0poLZMAAAHsSURBVHic7dZBbsIwFEXRn7CMLrS76U5rd0BKhcHgqhWTd84kwjZ2Agjd7e3jvVdV7b1VVdVp+dqtf8H6+ffyT/vXebzXqaqq2nDt2379+sn8z/jwuvaH8+2Yv+y/jefdn7+9r31y/vf7nj3P5LzJ/Px5H9/Pzedy87yL970N+0zmZ99D1VZVVfv5Z1D78Tu5XNuxahwf1m+T8fk+k3X9yXntenxb3mdY1xbP60/Oa/fXL9/X5P2r+1zWtdXP4Xq8H29sx0Db2+Q6m18c/+M5n78+/5/uexzfXnTOi57n/G8AAEQRAAAQSAAAQCABAACBBAAABBIAABBIAABAIAEAAIEEAAAEEgAAEEgAAEAgAQAAgQQAAAQSAAAQSAAAQCABAACBBAAABBIAABBIAABAIAEAAIEEAAAEEgAAEEgAAEAgAQAAgQQAAAQSAAAQSAAAQCABAACBBAAABBIAABBIAABAIAEAAIEEAAAEEgAAEEgAAEAgAQAAgQQAAAQSAAAQSAAAQCABAACBBAAABBIAABBIAABAIAEAAIEEAAAEEgAAEEgAAEAgAQAAgQQAAAQSAAAQSAAAQCABAACBBAAABBIAABBIAABAIAEAAIEEAAAEEgAAEEgAAEAgAQAAgQQAAAQSAAAQSAAAQKAvmHGnuM0X+LgAAAAASUVORK5CYII=\"></div><div style=\"vertical-align: middle; max-width: 514px; display: flex; justify-content: space-between;\"><div style=\"float: left;\"><div title=\"#1b9e77ff\" style=\"display: inline-block; width: 1em; height: 1em; margin: 0; vertical-align: middle; border: 1px solid #555; background-color: #1b9e77ff;\"></div> under</div><div style=\"margin: 0 auto; display: inline-block;\">bad <div title=\"#00000000\" style=\"display: inline-block; width: 1em; height: 1em; margin: 0; vertical-align: middle; border: 1px solid #555; background-color: #00000000;\"></div></div><div style=\"float: right;\">over <div title=\"#66a61eff\" style=\"display: inline-block; width: 1em; height: 1em; margin: 0; vertical-align: middle; border: 1px solid #555; background-color: #66a61eff;\"></div></div>"
      ],
      "text/plain": [
       "<matplotlib.colors.LinearSegmentedColormap at 0x12fa2fef0>"
      ]
     },
     "execution_count": 3,
     "metadata": {},
     "output_type": "execute_result"
    }
   ],
   "source": [
    "colors_colorbrewer2 = [\n",
    "    \"#1b9e77\",\n",
    "    \"#d95f02\",\n",
    "    \"#7570b3\",\n",
    "    \"#e7298a\",\n",
    "    \"#66a61e\"\n",
    "]\n",
    "\n",
    "cmap_colorbrewer2 = mcolors.LinearSegmentedColormap.from_list(\"colorbrewer2\", colors_colorbrewer2, N=256)\n",
    "\n",
    "cmap_colorbrewer2"
   ]
  },
  {
   "cell_type": "code",
   "execution_count": 4,
   "metadata": {},
   "outputs": [
    {
     "data": {
      "image/png": "[encoded data removed]",
      "text/plain": [
       "<Figure size 640x480 with 1 Axes>"
      ]
     },
     "metadata": {},
     "output_type": "display_data"
    }
   ],
   "source": [
    "_rng = np.random.default_rng(0x2024_05_2)\n",
    "\n",
    "probs = np.array([1, 2, 1, 0.5, 0.25])\n",
    "probs = probs / probs.sum()\n",
    "colors_idxs = _rng.choice(list(range(5)), size = 20, p = probs, replace = True)\n",
    "colors = [colors_colorbrewer2[c_idx] for c_idx in colors_idxs]\n",
    "\n",
    "y = np.arange(0, 1, 0.05)**2 + 0.1 * np.arange(0, 1, 0.05)**(1/2)\n",
    "plt.barh(range(len(y)), y, color = colors)\n",
    "plt.savefig(\"imgs/4_2.png\")"
   ]
  },
  {
   "cell_type": "code",
   "execution_count": null,
   "metadata": {},
   "outputs": [],
   "source": []
  }
 ],
 "metadata": {
  "kernelspec": {
   "display_name": ".venv",
   "language": "python",
   "name": "python3"
  },
  "language_info": {
   "codemirror_mode": {
    "name": "ipython",
    "version": 3
   },
   "file_extension": ".py",
   "mimetype": "text/x-python",
   "name": "python",
   "nbconvert_exporter": "python",
   "pygments_lexer": "ipython3",
   "version": "3.12.3"
  }
 },
 "nbformat": 4,
 "nbformat_minor": 2
}
